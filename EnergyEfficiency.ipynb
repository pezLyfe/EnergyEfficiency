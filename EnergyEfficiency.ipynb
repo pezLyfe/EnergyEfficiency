{
 "cells": [
  {
   "cell_type": "markdown",
   "metadata": {},
   "source": [
    "# Affect of various features on Heating and Cooling loads in a building\n",
    "\n",
    "This notebook was created to complete the project requirements of DSE200x\n",
    "at UCSDx through EDx <br><br>\n",
    "Original dataset [here](https://archive.ics.uci.edu/ml/datasets/Energy+efficiency#)\n",
    "<br><br>Dataset created by Angeliki Xifara (angxifara '@' gmail.com, Civil/Structural Engineer) and was processed by Athanasios Tsanas (tsanasthanasis '@' gmail.com, Oxford Centre for Industrial and Applied Mathematics, University of Oxford, UK).\n",
    "<br><br> All code, analysis, and figures are original work by Chris May [(Github)](https://github.com/pezLyfe) unless otherwise noted\n",
    "<br><br>\n",
    "## Description of Dataset by the sources: \n",
    "We perform energy analysis using 12 different building shapes simulated in Ecotect. The buildings differ with respect to the glazing area, the glazing area distribution, and the orientation, amongst other parameters. We simulate various settings as functions of the afore-mentioned characteristics to obtain 768 building shapes. The dataset comprises 768 samples and 8 features, aiming to predict two real valued responses. It can also be used as a multi-class classification problem if the response is rounded to the nearest integer.\n",
    "\n",
    "### Explanation of the Variables within the dataset:\n",
    "The variable names in the data dictionary were somewhat unclear. A dive into the associated academic paper gave better results. The paper is reference in the citations section, but for convenience the variable meanings are given below.\n",
    "<br>\n",
    "    \n",
    "Relative compactness | Surface area | Wall area | Roof area | Overall height \n",
    ":---: | :---: | :---: | :---: |:---: \n",
    "Surface area/volume | m<sup>2</sup> | m<sup>2</sup> | m<sup>2</sup> | m\n",
    "\n",
    "Value | 1 | 2 | 3 | 4 \n",
    ":---: | :---: | :---: | :---: |:---: \n",
    "Direction | North | South | East | West\n",
    "\n",
    "Value | 0 | .10 | .25 | .40 \n",
    ":---: | :---: | :---: | :---: |:---: \n",
    "Glazing % of floor area | 0 | 10% | 25% | 40%\n",
    "\n",
    "Value | 0 | 1 | 2 | 3 | 4 \n",
    ":---: | :---: | :---: | :---: |:---: | :---:\n",
    "Glazing area distribution | None | Uniform | North bias | East bias | South bias | West bia\n",
    "\n",
    "Heating Load | Cooling Load\n",
    ":---: | :---: \n",
    "kWh/m<sup>2</sup> | kWh/m<sup>2</sup>\n",
    "\n",
    "All buildings have the same volume, with different surface areas and individual dimensions. The materials of construction for the walls, floors, roof, and windows were modeled as being the same, and as such have the same insulating values. "
   ]
  },
  {
   "cell_type": "code",
   "execution_count": 2,
   "metadata": {},
   "outputs": [
    {
     "data": {
      "text/html": [
       "<div>\n",
       "<style scoped>\n",
       "    .dataframe tbody tr th:only-of-type {\n",
       "        vertical-align: middle;\n",
       "    }\n",
       "\n",
       "    .dataframe tbody tr th {\n",
       "        vertical-align: top;\n",
       "    }\n",
       "\n",
       "    .dataframe thead th {\n",
       "        text-align: right;\n",
       "    }\n",
       "</style>\n",
       "<table border=\"1\" class=\"dataframe\">\n",
       "  <thead>\n",
       "    <tr style=\"text-align: right;\">\n",
       "      <th></th>\n",
       "      <th>X1</th>\n",
       "      <th>X2</th>\n",
       "      <th>X3</th>\n",
       "      <th>X4</th>\n",
       "      <th>X5</th>\n",
       "      <th>X6</th>\n",
       "      <th>X7</th>\n",
       "      <th>X8</th>\n",
       "      <th>Y1</th>\n",
       "      <th>Y2</th>\n",
       "    </tr>\n",
       "  </thead>\n",
       "  <tbody>\n",
       "    <tr>\n",
       "      <th>0</th>\n",
       "      <td>0.98</td>\n",
       "      <td>514.5</td>\n",
       "      <td>294.0</td>\n",
       "      <td>110.25</td>\n",
       "      <td>7.0</td>\n",
       "      <td>2</td>\n",
       "      <td>0.0</td>\n",
       "      <td>0</td>\n",
       "      <td>15.55</td>\n",
       "      <td>21.33</td>\n",
       "    </tr>\n",
       "    <tr>\n",
       "      <th>1</th>\n",
       "      <td>0.98</td>\n",
       "      <td>514.5</td>\n",
       "      <td>294.0</td>\n",
       "      <td>110.25</td>\n",
       "      <td>7.0</td>\n",
       "      <td>3</td>\n",
       "      <td>0.0</td>\n",
       "      <td>0</td>\n",
       "      <td>15.55</td>\n",
       "      <td>21.33</td>\n",
       "    </tr>\n",
       "    <tr>\n",
       "      <th>2</th>\n",
       "      <td>0.98</td>\n",
       "      <td>514.5</td>\n",
       "      <td>294.0</td>\n",
       "      <td>110.25</td>\n",
       "      <td>7.0</td>\n",
       "      <td>4</td>\n",
       "      <td>0.0</td>\n",
       "      <td>0</td>\n",
       "      <td>15.55</td>\n",
       "      <td>21.33</td>\n",
       "    </tr>\n",
       "    <tr>\n",
       "      <th>3</th>\n",
       "      <td>0.98</td>\n",
       "      <td>514.5</td>\n",
       "      <td>294.0</td>\n",
       "      <td>110.25</td>\n",
       "      <td>7.0</td>\n",
       "      <td>5</td>\n",
       "      <td>0.0</td>\n",
       "      <td>0</td>\n",
       "      <td>15.55</td>\n",
       "      <td>21.33</td>\n",
       "    </tr>\n",
       "    <tr>\n",
       "      <th>4</th>\n",
       "      <td>0.90</td>\n",
       "      <td>563.5</td>\n",
       "      <td>318.5</td>\n",
       "      <td>122.50</td>\n",
       "      <td>7.0</td>\n",
       "      <td>2</td>\n",
       "      <td>0.0</td>\n",
       "      <td>0</td>\n",
       "      <td>20.84</td>\n",
       "      <td>28.28</td>\n",
       "    </tr>\n",
       "  </tbody>\n",
       "</table>\n",
       "</div>"
      ],
      "text/plain": [
       "     X1     X2     X3      X4   X5  X6   X7  X8     Y1     Y2\n",
       "0  0.98  514.5  294.0  110.25  7.0   2  0.0   0  15.55  21.33\n",
       "1  0.98  514.5  294.0  110.25  7.0   3  0.0   0  15.55  21.33\n",
       "2  0.98  514.5  294.0  110.25  7.0   4  0.0   0  15.55  21.33\n",
       "3  0.98  514.5  294.0  110.25  7.0   5  0.0   0  15.55  21.33\n",
       "4  0.90  563.5  318.5  122.50  7.0   2  0.0   0  20.84  28.28"
      ]
     },
     "execution_count": 2,
     "metadata": {},
     "output_type": "execute_result"
    }
   ],
   "source": [
    "import numpy as np\n",
    "import pandas as pd \n",
    "import sklearn as skl\n",
    "import matplotlib.pyplot as plt\n",
    "\n",
    "df = pd.read_csv('/Users/chrismay/Desktop/UCSDx/PythonDS/finalProject/energyEfficiencyData.csv')\n",
    "df.head()"
   ]
  },
  {
   "cell_type": "markdown",
   "metadata": {},
   "source": [
    "# Data cleaning \n",
    "<br> This data was generated by an analysis program, so the column headers are pretty useless. Luckily the data dictionary provided with the set gave us the column names. Let's rename the columns to something we can understand"
   ]
  },
  {
   "cell_type": "code",
   "execution_count": 3,
   "metadata": {},
   "outputs": [
    {
     "data": {
      "text/html": [
       "<div>\n",
       "<style scoped>\n",
       "    .dataframe tbody tr th:only-of-type {\n",
       "        vertical-align: middle;\n",
       "    }\n",
       "\n",
       "    .dataframe tbody tr th {\n",
       "        vertical-align: top;\n",
       "    }\n",
       "\n",
       "    .dataframe thead th {\n",
       "        text-align: right;\n",
       "    }\n",
       "</style>\n",
       "<table border=\"1\" class=\"dataframe\">\n",
       "  <thead>\n",
       "    <tr style=\"text-align: right;\">\n",
       "      <th></th>\n",
       "      <th>RelCompactness</th>\n",
       "      <th>Surface Area</th>\n",
       "      <th>Wall Area</th>\n",
       "      <th>Roof Area</th>\n",
       "      <th>Overall Height</th>\n",
       "      <th>Orientation</th>\n",
       "      <th>Glazing Area</th>\n",
       "      <th>Glazing Area Distro</th>\n",
       "      <th>HeatLoad</th>\n",
       "      <th>CoolLoad</th>\n",
       "    </tr>\n",
       "  </thead>\n",
       "  <tbody>\n",
       "    <tr>\n",
       "      <th>0</th>\n",
       "      <td>0.98</td>\n",
       "      <td>514.5</td>\n",
       "      <td>294.0</td>\n",
       "      <td>110.25</td>\n",
       "      <td>7.0</td>\n",
       "      <td>2</td>\n",
       "      <td>0.0</td>\n",
       "      <td>0</td>\n",
       "      <td>15.55</td>\n",
       "      <td>21.33</td>\n",
       "    </tr>\n",
       "    <tr>\n",
       "      <th>1</th>\n",
       "      <td>0.98</td>\n",
       "      <td>514.5</td>\n",
       "      <td>294.0</td>\n",
       "      <td>110.25</td>\n",
       "      <td>7.0</td>\n",
       "      <td>3</td>\n",
       "      <td>0.0</td>\n",
       "      <td>0</td>\n",
       "      <td>15.55</td>\n",
       "      <td>21.33</td>\n",
       "    </tr>\n",
       "    <tr>\n",
       "      <th>2</th>\n",
       "      <td>0.98</td>\n",
       "      <td>514.5</td>\n",
       "      <td>294.0</td>\n",
       "      <td>110.25</td>\n",
       "      <td>7.0</td>\n",
       "      <td>4</td>\n",
       "      <td>0.0</td>\n",
       "      <td>0</td>\n",
       "      <td>15.55</td>\n",
       "      <td>21.33</td>\n",
       "    </tr>\n",
       "    <tr>\n",
       "      <th>3</th>\n",
       "      <td>0.98</td>\n",
       "      <td>514.5</td>\n",
       "      <td>294.0</td>\n",
       "      <td>110.25</td>\n",
       "      <td>7.0</td>\n",
       "      <td>5</td>\n",
       "      <td>0.0</td>\n",
       "      <td>0</td>\n",
       "      <td>15.55</td>\n",
       "      <td>21.33</td>\n",
       "    </tr>\n",
       "    <tr>\n",
       "      <th>4</th>\n",
       "      <td>0.90</td>\n",
       "      <td>563.5</td>\n",
       "      <td>318.5</td>\n",
       "      <td>122.50</td>\n",
       "      <td>7.0</td>\n",
       "      <td>2</td>\n",
       "      <td>0.0</td>\n",
       "      <td>0</td>\n",
       "      <td>20.84</td>\n",
       "      <td>28.28</td>\n",
       "    </tr>\n",
       "  </tbody>\n",
       "</table>\n",
       "</div>"
      ],
      "text/plain": [
       "   RelCompactness  Surface Area  Wall Area  Roof Area  Overall Height  \\\n",
       "0            0.98         514.5      294.0     110.25             7.0   \n",
       "1            0.98         514.5      294.0     110.25             7.0   \n",
       "2            0.98         514.5      294.0     110.25             7.0   \n",
       "3            0.98         514.5      294.0     110.25             7.0   \n",
       "4            0.90         563.5      318.5     122.50             7.0   \n",
       "\n",
       "   Orientation  Glazing Area  Glazing Area Distro  HeatLoad  CoolLoad  \n",
       "0            2           0.0                    0     15.55     21.33  \n",
       "1            3           0.0                    0     15.55     21.33  \n",
       "2            4           0.0                    0     15.55     21.33  \n",
       "3            5           0.0                    0     15.55     21.33  \n",
       "4            2           0.0                    0     20.84     28.28  "
      ]
     },
     "execution_count": 3,
     "metadata": {},
     "output_type": "execute_result"
    }
   ],
   "source": [
    "df.columns = ['RelCompactness', 'Surface Area', 'Wall Area', 'Roof Area','Overall Height', \\\n",
    "             'Orientation', 'Glazing Area','Glazing Area Distro', 'HeatLoad', 'CoolLoad']\n",
    "df.head()"
   ]
  },
  {
   "cell_type": "code",
   "execution_count": 4,
   "metadata": {},
   "outputs": [
    {
     "data": {
      "text/plain": [
       "(768, 10)"
      ]
     },
     "execution_count": 4,
     "metadata": {},
     "output_type": "execute_result"
    }
   ],
   "source": [
    "df.shape #let's see how big this dataset is"
   ]
  },
  {
   "cell_type": "markdown",
   "metadata": {},
   "source": [
    "First let's comb through and see if there are any missing values in the dataset"
   ]
  },
  {
   "cell_type": "code",
   "execution_count": 5,
   "metadata": {},
   "outputs": [
    {
     "data": {
      "text/plain": [
       "(768, 10)"
      ]
     },
     "execution_count": 5,
     "metadata": {},
     "output_type": "execute_result"
    }
   ],
   "source": [
    "missing = pd.isnull(df) #Returns a dataframe of boolean values. If a null value is present, returns True, else False\n",
    "notMissing = ~missing #Create a new dataframe that's the inverse of the missing values (data present = True)\n",
    "df = df[notMissing] #Filter based on the inverse boolean dataframe. The new dataframe will only contain rows with values\n",
    "df.shape #Check the shape of the new dataframe to see if anything got dropped\n"
   ]
  },
  {
   "cell_type": "markdown",
   "metadata": {},
   "source": [
    "After combing through the dataframe it looks like there were no entries missing. Now let's check and make sure all the entries are the type we want them to be"
   ]
  },
  {
   "cell_type": "code",
   "execution_count": 6,
   "metadata": {},
   "outputs": [
    {
     "data": {
      "text/plain": [
       "RelCompactness         float64\n",
       "Surface Area           float64\n",
       "Wall Area              float64\n",
       "Roof Area              float64\n",
       "Overall Height         float64\n",
       "Orientation              int64\n",
       "Glazing Area           float64\n",
       "Glazing Area Distro      int64\n",
       "HeatLoad               float64\n",
       "CoolLoad               float64\n",
       "dtype: object"
      ]
     },
     "execution_count": 6,
     "metadata": {},
     "output_type": "execute_result"
    }
   ],
   "source": [
    "df.dtypes #Returns a list of each column and their corresponding data type"
   ]
  },
  {
   "cell_type": "markdown",
   "metadata": {},
   "source": [
    "Great, all of the columns are either floats or ints. This project is looking like a piece of cake"
   ]
  },
  {
   "cell_type": "markdown",
   "metadata": {},
   "source": [
    "# Data exploration"
   ]
  },
  {
   "cell_type": "code",
   "execution_count": 7,
   "metadata": {},
   "outputs": [
    {
     "data": {
      "text/html": [
       "<div>\n",
       "<style scoped>\n",
       "    .dataframe tbody tr th:only-of-type {\n",
       "        vertical-align: middle;\n",
       "    }\n",
       "\n",
       "    .dataframe tbody tr th {\n",
       "        vertical-align: top;\n",
       "    }\n",
       "\n",
       "    .dataframe thead th {\n",
       "        text-align: right;\n",
       "    }\n",
       "</style>\n",
       "<table border=\"1\" class=\"dataframe\">\n",
       "  <thead>\n",
       "    <tr style=\"text-align: right;\">\n",
       "      <th></th>\n",
       "      <th>RelCompactness</th>\n",
       "      <th>Surface Area</th>\n",
       "      <th>Wall Area</th>\n",
       "      <th>Roof Area</th>\n",
       "      <th>Overall Height</th>\n",
       "      <th>Orientation</th>\n",
       "      <th>Glazing Area</th>\n",
       "      <th>Glazing Area Distro</th>\n",
       "      <th>HeatLoad</th>\n",
       "      <th>CoolLoad</th>\n",
       "    </tr>\n",
       "  </thead>\n",
       "  <tbody>\n",
       "    <tr>\n",
       "      <th>count</th>\n",
       "      <td>768.000000</td>\n",
       "      <td>768.000000</td>\n",
       "      <td>768.000000</td>\n",
       "      <td>768.000000</td>\n",
       "      <td>768.00000</td>\n",
       "      <td>768.000000</td>\n",
       "      <td>768.000000</td>\n",
       "      <td>768.00000</td>\n",
       "      <td>768.000000</td>\n",
       "      <td>768.000000</td>\n",
       "    </tr>\n",
       "    <tr>\n",
       "      <th>mean</th>\n",
       "      <td>0.764167</td>\n",
       "      <td>671.708333</td>\n",
       "      <td>318.500000</td>\n",
       "      <td>176.604167</td>\n",
       "      <td>5.25000</td>\n",
       "      <td>3.500000</td>\n",
       "      <td>0.234375</td>\n",
       "      <td>2.81250</td>\n",
       "      <td>22.307201</td>\n",
       "      <td>24.587760</td>\n",
       "    </tr>\n",
       "    <tr>\n",
       "      <th>std</th>\n",
       "      <td>0.105777</td>\n",
       "      <td>88.086116</td>\n",
       "      <td>43.626481</td>\n",
       "      <td>45.165950</td>\n",
       "      <td>1.75114</td>\n",
       "      <td>1.118763</td>\n",
       "      <td>0.133221</td>\n",
       "      <td>1.55096</td>\n",
       "      <td>10.090196</td>\n",
       "      <td>9.513306</td>\n",
       "    </tr>\n",
       "    <tr>\n",
       "      <th>min</th>\n",
       "      <td>0.620000</td>\n",
       "      <td>514.500000</td>\n",
       "      <td>245.000000</td>\n",
       "      <td>110.250000</td>\n",
       "      <td>3.50000</td>\n",
       "      <td>2.000000</td>\n",
       "      <td>0.000000</td>\n",
       "      <td>0.00000</td>\n",
       "      <td>6.010000</td>\n",
       "      <td>10.900000</td>\n",
       "    </tr>\n",
       "    <tr>\n",
       "      <th>25%</th>\n",
       "      <td>0.682500</td>\n",
       "      <td>606.375000</td>\n",
       "      <td>294.000000</td>\n",
       "      <td>140.875000</td>\n",
       "      <td>3.50000</td>\n",
       "      <td>2.750000</td>\n",
       "      <td>0.100000</td>\n",
       "      <td>1.75000</td>\n",
       "      <td>12.992500</td>\n",
       "      <td>15.620000</td>\n",
       "    </tr>\n",
       "    <tr>\n",
       "      <th>50%</th>\n",
       "      <td>0.750000</td>\n",
       "      <td>673.750000</td>\n",
       "      <td>318.500000</td>\n",
       "      <td>183.750000</td>\n",
       "      <td>5.25000</td>\n",
       "      <td>3.500000</td>\n",
       "      <td>0.250000</td>\n",
       "      <td>3.00000</td>\n",
       "      <td>18.950000</td>\n",
       "      <td>22.080000</td>\n",
       "    </tr>\n",
       "    <tr>\n",
       "      <th>75%</th>\n",
       "      <td>0.830000</td>\n",
       "      <td>741.125000</td>\n",
       "      <td>343.000000</td>\n",
       "      <td>220.500000</td>\n",
       "      <td>7.00000</td>\n",
       "      <td>4.250000</td>\n",
       "      <td>0.400000</td>\n",
       "      <td>4.00000</td>\n",
       "      <td>31.667500</td>\n",
       "      <td>33.132500</td>\n",
       "    </tr>\n",
       "    <tr>\n",
       "      <th>max</th>\n",
       "      <td>0.980000</td>\n",
       "      <td>808.500000</td>\n",
       "      <td>416.500000</td>\n",
       "      <td>220.500000</td>\n",
       "      <td>7.00000</td>\n",
       "      <td>5.000000</td>\n",
       "      <td>0.400000</td>\n",
       "      <td>5.00000</td>\n",
       "      <td>43.100000</td>\n",
       "      <td>48.030000</td>\n",
       "    </tr>\n",
       "  </tbody>\n",
       "</table>\n",
       "</div>"
      ],
      "text/plain": [
       "       RelCompactness  Surface Area   Wall Area   Roof Area  Overall Height  \\\n",
       "count      768.000000    768.000000  768.000000  768.000000       768.00000   \n",
       "mean         0.764167    671.708333  318.500000  176.604167         5.25000   \n",
       "std          0.105777     88.086116   43.626481   45.165950         1.75114   \n",
       "min          0.620000    514.500000  245.000000  110.250000         3.50000   \n",
       "25%          0.682500    606.375000  294.000000  140.875000         3.50000   \n",
       "50%          0.750000    673.750000  318.500000  183.750000         5.25000   \n",
       "75%          0.830000    741.125000  343.000000  220.500000         7.00000   \n",
       "max          0.980000    808.500000  416.500000  220.500000         7.00000   \n",
       "\n",
       "       Orientation  Glazing Area  Glazing Area Distro    HeatLoad    CoolLoad  \n",
       "count   768.000000    768.000000            768.00000  768.000000  768.000000  \n",
       "mean      3.500000      0.234375              2.81250   22.307201   24.587760  \n",
       "std       1.118763      0.133221              1.55096   10.090196    9.513306  \n",
       "min       2.000000      0.000000              0.00000    6.010000   10.900000  \n",
       "25%       2.750000      0.100000              1.75000   12.992500   15.620000  \n",
       "50%       3.500000      0.250000              3.00000   18.950000   22.080000  \n",
       "75%       4.250000      0.400000              4.00000   31.667500   33.132500  \n",
       "max       5.000000      0.400000              5.00000   43.100000   48.030000  "
      ]
     },
     "execution_count": 7,
     "metadata": {},
     "output_type": "execute_result"
    }
   ],
   "source": [
    "df.describe()"
   ]
  },
  {
   "cell_type": "markdown",
   "metadata": {},
   "source": [
    "Each row in this dataset represents a unique combination of features that were used as inputs to model the heating and cooling loads in a building simulation. So we can create a couple of scatter plots to get an idea of how the heating and cooling loads vary across different features.\n",
    "<br><br>First, let's take a look and see how heating loads and cooling loads vary in each entry "
   ]
  },
  {
   "cell_type": "code",
   "execution_count": 8,
   "metadata": {
    "scrolled": true
   },
   "outputs": [
    {
     "data": {
      "text/plain": [
       "Text(0.5,1,'Heating Loads vs. Cooling Loads')"
      ]
     },
     "execution_count": 8,
     "metadata": {},
     "output_type": "execute_result"
    },
    {
     "data": {
      "image/png": "[encoded data removed]",
      "text/plain": [
       "<Figure size 432x288 with 1 Axes>"
      ]
     },
     "metadata": {
      "needs_background": "light"
     },
     "output_type": "display_data"
    }
   ],
   "source": [
    "y = df['HeatLoad']\n",
    "x = df['CoolLoad']\n",
    "plt.scatter(x, y)\n",
    "plt.title('Heating Loads vs. Cooling Loads')"
   ]
  },
  {
   "cell_type": "markdown",
   "metadata": {},
   "source": [
    "As expected, buildings with a high heating load also have a high cooling load. \n",
    "<br>There seems to be a bit of an assymetry when the loads are at the higher end. In the 35 to 45 range on cooling loads, there seems to be a relatively higher heating load. \n",
    "<br><br>I'll have to remember to look at that deeper when we do our analysis. next let's see how relative compactness affects each"
   ]
  },
  {
   "cell_type": "code",
   "execution_count": 13,
   "metadata": {},
   "outputs": [
    {
     "data": {
      "text/plain": [
       "Text(0.5,1,'Cooling vs. Rel Compactness')"
      ]
     },
     "execution_count": 13,
     "metadata": {},
     "output_type": "execute_result"
    },
    {
     "data": {
      "image/png": "[encoded data removed]",
      "text/plain": [
       "<Figure size 432x288 with 2 Axes>"
      ]
     },
     "metadata": {
      "needs_background": "light"
     },
     "output_type": "display_data"
    }
   ],
   "source": [
    "hy = df['HeatLoad']\n",
    "hx = df['RelCompactness']\n",
    "cy = df['CoolLoad']\n",
    "cx = df['RelCompactness']\n",
    "\n",
    "plt.subplot(1, 2, 1)\n",
    "plt.scatter(hx, hy)\n",
    "plt.title('Heating  vs. Rel Compactness')\n",
    "\n",
    "plt.subplot(1, 2, 2)\n",
    "plt.scatter(cx, cy)\n",
    "plt.title('Cooling vs. Rel Compactness')"
   ]
  },
  {
   "cell_type": "markdown",
   "metadata": {},
   "source": [
    "Ok, the buildings are generally more energy efficient on low relative compactness values, but things get weird above 0.75. There must be other factors that affect the target variables"
   ]
  },
  {
   "cell_type": "code",
   "execution_count": 15,
   "metadata": {},
   "outputs": [
    {
     "data": {
      "text/plain": [
       "Text(0.5,1,'Cooling vs. Surf Area')"
      ]
     },
     "execution_count": 15,
     "metadata": {},
     "output_type": "execute_result"
    },
    {
     "data": {
      "image/png": "[encoded data removed]",
      "text/plain": [
       "<Figure size 432x288 with 2 Axes>"
      ]
     },
     "metadata": {
      "needs_background": "light"
     },
     "output_type": "display_data"
    }
   ],
   "source": [
    "hy = df['HeatLoad']\n",
    "hx = df['Surface Area']\n",
    "cy = df['CoolLoad']\n",
    "cx = df['Surface Area']\n",
    "\n",
    "plt.subplot(1, 2, 1)\n",
    "plt.scatter(hx, hy)\n",
    "plt.title('Heating  vs. Surf Area')\n",
    "\n",
    "plt.subplot(1, 2, 2)\n",
    "plt.scatter(cx, cy)\n",
    "plt.title('Cooling vs. Surf Area')"
   ]
  },
  {
   "cell_type": "markdown",
   "metadata": {},
   "source": [
    "There's a big difference between the smaller surface area values and the larger surface areas. Interesting to note, there must be something in the geometries above a certain number"
   ]
  },
  {
   "cell_type": "code",
   "execution_count": 16,
   "metadata": {},
   "outputs": [
    {
     "data": {
      "text/plain": [
       "Text(0.5,1,'Cooling vs. Wall Area')"
      ]
     },
     "execution_count": 16,
     "metadata": {},
     "output_type": "execute_result"
    },
    {
     "data": {
      "image/png": "[encoded data removed]",
      "text/plain": [
       "<Figure size 432x288 with 2 Axes>"
      ]
     },
     "metadata": {
      "needs_background": "light"
     },
     "output_type": "display_data"
    }
   ],
   "source": [
    "hy = df['HeatLoad']\n",
    "hx = df['Wall Area']\n",
    "cy = df['CoolLoad']\n",
    "cx = df['Wall Area']\n",
    "\n",
    "plt.subplot(1, 2, 1)\n",
    "plt.scatter(hx, hy)\n",
    "plt.title('Heating  vs. Wall Area')\n",
    "\n",
    "plt.subplot(1, 2, 2)\n",
    "plt.scatter(cx, cy)\n",
    "plt.title('Cooling vs. Wall Area')"
   ]
  },
  {
   "cell_type": "markdown",
   "metadata": {},
   "source": [
    "I'm a markdown cell"
   ]
  },
  {
   "cell_type": "code",
   "execution_count": 17,
   "metadata": {},
   "outputs": [
    {
     "data": {
      "text/plain": [
       "Text(0.5,1,'Cooling vs. Roof Area')"
      ]
     },
     "execution_count": 17,
     "metadata": {},
     "output_type": "execute_result"
    },
    {
     "data": {
      "image/png": "[encoded data removed]",
      "text/plain": [
       "<Figure size 432x288 with 2 Axes>"
      ]
     },
     "metadata": {
      "needs_background": "light"
     },
     "output_type": "display_data"
    }
   ],
   "source": [
    "hy = df['HeatLoad']\n",
    "hx = df['Roof Area']\n",
    "cy = df['CoolLoad']\n",
    "cx = df['Roof Area']\n",
    "\n",
    "plt.subplot(1, 2, 1)\n",
    "plt.scatter(hx, hy)\n",
    "plt.title('Heating  vs. Roof Area')\n",
    "\n",
    "plt.subplot(1, 2, 2)\n",
    "plt.scatter(cx, cy)\n",
    "plt.title('Cooling vs. Roof Area')"
   ]
  },
  {
   "cell_type": "markdown",
   "metadata": {},
   "source": [
    "The really big roof areas are probably due to the buildings being low and squat"
   ]
  },
  {
   "cell_type": "code",
   "execution_count": 18,
   "metadata": {},
   "outputs": [
    {
     "data": {
      "text/plain": [
       "Text(0.5,1,'Cooling vs. Height')"
      ]
     },
     "execution_count": 18,
     "metadata": {},
     "output_type": "execute_result"
    },
    {
     "data": {
      "image/png": "[encoded data removed]",
      "text/plain": [
       "<Figure size 432x288 with 2 Axes>"
      ]
     },
     "metadata": {
      "needs_background": "light"
     },
     "output_type": "display_data"
    }
   ],
   "source": [
    "hy = df['HeatLoad']\n",
    "hx = df['Overall Height']\n",
    "cy = df['CoolLoad']\n",
    "cx = df['Overall Height']\n",
    "\n",
    "plt.subplot(1, 2, 1)\n",
    "plt.scatter(hx, hy)\n",
    "plt.title('Heating  vs. Height')\n",
    "\n",
    "plt.subplot(1, 2, 2)\n",
    "plt.scatter(cx, cy)\n",
    "plt.title('Cooling vs. Height')"
   ]
  },
  {
   "cell_type": "code",
   "execution_count": 19,
   "metadata": {},
   "outputs": [
    {
     "data": {
      "text/plain": [
       "Text(0.5,1,'Cooling vs. Orientation')"
      ]
     },
     "execution_count": 19,
     "metadata": {},
     "output_type": "execute_result"
    },
    {
     "data": {
      "image/png": "[encoded data removed]",
      "text/plain": [
       "<Figure size 432x288 with 2 Axes>"
      ]
     },
     "metadata": {
      "needs_background": "light"
     },
     "output_type": "display_data"
    }
   ],
   "source": [
    "hy = df['HeatLoad']\n",
    "hx = df['Orientation']\n",
    "cy = df['CoolLoad']\n",
    "cx = df['Orientation']\n",
    "\n",
    "plt.subplot(1, 2, 1)\n",
    "plt.scatter(hx, hy)\n",
    "plt.title('Heating  vs. Orientation')\n",
    "\n",
    "plt.subplot(1, 2, 2)\n",
    "plt.scatter(cx, cy)\n",
    "plt.title('Cooling vs. Orientation')"
   ]
  },
  {
   "cell_type": "code",
   "execution_count": 20,
   "metadata": {},
   "outputs": [
    {
     "data": {
      "text/plain": [
       "Text(0.5,1,'Cooling vs. Glaze Area')"
      ]
     },
     "execution_count": 20,
     "metadata": {},
     "output_type": "execute_result"
    },
    {
     "data": {
      "image/png": "[encoded data removed]",
      "text/plain": [
       "<Figure size 432x288 with 2 Axes>"
      ]
     },
     "metadata": {
      "needs_background": "light"
     },
     "output_type": "display_data"
    }
   ],
   "source": [
    "hy = df['HeatLoad']\n",
    "hx = df['Glazing Area']\n",
    "cy = df['CoolLoad']\n",
    "cx = df['Glazing Area']\n",
    "\n",
    "plt.subplot(1, 2, 1)\n",
    "plt.scatter(hx, hy)\n",
    "plt.title('Heating  vs. Glaze Area')\n",
    "\n",
    "plt.subplot(1, 2, 2)\n",
    "plt.scatter(cx, cy)\n",
    "plt.title('Cooling vs. Glaze Area')"
   ]
  },
  {
   "cell_type": "code",
   "execution_count": 21,
   "metadata": {},
   "outputs": [
    {
     "data": {
      "text/plain": [
       "Text(0.5,1,'Cooling vs. Glaze Distro')"
      ]
     },
     "execution_count": 21,
     "metadata": {},
     "output_type": "execute_result"
    },
    {
     "data": {
      "image/png": "[encoded data removed]",
      "text/plain": [
       "<Figure size 432x288 with 2 Axes>"
      ]
     },
     "metadata": {
      "needs_background": "light"
     },
     "output_type": "display_data"
    }
   ],
   "source": [
    "hy = df['HeatLoad']\n",
    "hx = df['Glazing Area Distro']\n",
    "cy = df['CoolLoad']\n",
    "cx = df['Glazing Area Distro']\n",
    "\n",
    "plt.subplot(1, 2, 1)\n",
    "plt.scatter(hx, hy)\n",
    "plt.title('Heating  vs. Glaze Distro')\n",
    "\n",
    "plt.subplot(1, 2, 2)\n",
    "plt.scatter(cx, cy)\n",
    "plt.title('Cooling vs. Glaze Distro')"
   ]
  },
  {
   "cell_type": "markdown",
   "metadata": {},
   "source": [
    "One things that's been definitely  clear is that overall height has an outsize affect on the heating and cooling loads. That's not a super helpful start though. In the dataset provided, there's only two measurements provided, and they're vastly different. Let's hold overall height constant and take a look at the distributions again"
   ]
  },
  {
   "cell_type": "code",
   "execution_count": 48,
   "metadata": {},
   "outputs": [],
   "source": [
    "shortDFMask =  df['Overall Height'] == 3.5 #Returns a dataframe of boolean values, where True = rows w/height of 3.5\n",
    "tallDFMask = ~shortDFMask #Create a new dataframe that's the inverse of the missing values (height of 7 = True)\n",
    "shortDF = df[shortDFMask] #Filter based on the inverse boolean dataframe\n",
    "tallDF = df[tallDFMask]"
   ]
  },
  {
   "cell_type": "code",
   "execution_count": 52,
   "metadata": {},
   "outputs": [
    {
     "data": {
      "text/plain": [
       "((384, 10), (384, 10))"
      ]
     },
     "execution_count": 52,
     "metadata": {},
     "output_type": "execute_result"
    }
   ],
   "source": [
    "shortDF.shape, tallDF.shape #Check the shape to make sure the filter stuck"
   ]
  },
  {
   "cell_type": "code",
   "execution_count": 53,
   "metadata": {},
   "outputs": [
    {
     "data": {
      "text/plain": [
       "(    RelCompactness  Surface Area  Wall Area  Roof Area  Overall Height  \\\n",
       " 24            0.74         686.0      245.0      220.5             3.5   \n",
       " 25            0.74         686.0      245.0      220.5             3.5   \n",
       " 26            0.74         686.0      245.0      220.5             3.5   \n",
       " 27            0.74         686.0      245.0      220.5             3.5   \n",
       " 28            0.71         710.5      269.5      220.5             3.5   \n",
       " \n",
       "     Orientation  Glazing Area  Glazing Area Distro  HeatLoad  CoolLoad  \n",
       " 24            2           0.0                    0      6.07     10.90  \n",
       " 25            3           0.0                    0      6.05     11.19  \n",
       " 26            4           0.0                    0      6.01     10.94  \n",
       " 27            5           0.0                    0      6.04     11.17  \n",
       " 28            2           0.0                    0      6.37     11.27  ,\n",
       "      RelCompactness  Surface Area  Wall Area  Roof Area  Overall Height  \\\n",
       " 763            0.64         784.0      343.0      220.5             3.5   \n",
       " 764            0.62         808.5      367.5      220.5             3.5   \n",
       " 765            0.62         808.5      367.5      220.5             3.5   \n",
       " 766            0.62         808.5      367.5      220.5             3.5   \n",
       " 767            0.62         808.5      367.5      220.5             3.5   \n",
       " \n",
       "      Orientation  Glazing Area  Glazing Area Distro  HeatLoad  CoolLoad  \n",
       " 763            5           0.4                    5     17.88     21.40  \n",
       " 764            2           0.4                    5     16.54     16.88  \n",
       " 765            3           0.4                    5     16.44     17.11  \n",
       " 766            4           0.4                    5     16.48     16.61  \n",
       " 767            5           0.4                    5     16.64     16.03  )"
      ]
     },
     "execution_count": 53,
     "metadata": {},
     "output_type": "execute_result"
    }
   ],
   "source": [
    "shortDF.head(), shortDF.tail() #Check the start and end entries of the short buildings"
   ]
  },
  {
   "cell_type": "code",
   "execution_count": 54,
   "metadata": {},
   "outputs": [
    {
     "data": {
      "text/plain": [
       "(   RelCompactness  Surface Area  Wall Area  Roof Area  Overall Height  \\\n",
       " 0            0.98         514.5      294.0     110.25             7.0   \n",
       " 1            0.98         514.5      294.0     110.25             7.0   \n",
       " 2            0.98         514.5      294.0     110.25             7.0   \n",
       " 3            0.98         514.5      294.0     110.25             7.0   \n",
       " 4            0.90         563.5      318.5     122.50             7.0   \n",
       " \n",
       "    Orientation  Glazing Area  Glazing Area Distro  HeatLoad  CoolLoad  \n",
       " 0            2           0.0                    0     15.55     21.33  \n",
       " 1            3           0.0                    0     15.55     21.33  \n",
       " 2            4           0.0                    0     15.55     21.33  \n",
       " 3            5           0.0                    0     15.55     21.33  \n",
       " 4            2           0.0                    0     20.84     28.28  ,\n",
       "      RelCompactness  Surface Area  Wall Area  Roof Area  Overall Height  \\\n",
       " 739            0.79         637.0      343.0      147.0             7.0   \n",
       " 740            0.76         661.5      416.5      122.5             7.0   \n",
       " 741            0.76         661.5      416.5      122.5             7.0   \n",
       " 742            0.76         661.5      416.5      122.5             7.0   \n",
       " 743            0.76         661.5      416.5      122.5             7.0   \n",
       " \n",
       "      Orientation  Glazing Area  Glazing Area Distro  HeatLoad  CoolLoad  \n",
       " 739            5           0.4                    5     40.79     44.87  \n",
       " 740            2           0.4                    5     38.82     39.37  \n",
       " 741            3           0.4                    5     39.72     39.80  \n",
       " 742            4           0.4                    5     39.31     37.79  \n",
       " 743            5           0.4                    5     39.86     38.18  )"
      ]
     },
     "execution_count": 54,
     "metadata": {},
     "output_type": "execute_result"
    }
   ],
   "source": [
    "tallDF.head(), tallDF.tail() #Check the head and tail of the tall entries"
   ]
  },
  {
   "cell_type": "code",
   "execution_count": null,
   "metadata": {},
   "outputs": [],
   "source": []
  }
 ],
 "metadata": {
  "kernelspec": {
   "display_name": "Python 3",
   "language": "python",
   "name": "python3"
  },
  "language_info": {
   "codemirror_mode": {
    "name": "ipython",
    "version": 3
   },
   "file_extension": ".py",
   "mimetype": "text/x-python",
   "name": "python",
   "nbconvert_exporter": "python",
   "pygments_lexer": "ipython3",
   "version": "3.7.0"
  }
 },
 "nbformat": 4,
 "nbformat_minor": 2
}
